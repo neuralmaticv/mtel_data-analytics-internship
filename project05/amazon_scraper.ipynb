{
 "cells": [
  {
   "cell_type": "markdown",
   "source": [
    "# Amazon Web Scraping\n",
    "> Very simple scraper for product data from Amazon"
   ],
   "metadata": {
    "collapsed": false,
    "pycharm": {
     "name": "#%% md\n"
    }
   }
  },
  {
   "cell_type": "code",
   "execution_count": 1,
   "id": "8771e4a3",
   "metadata": {},
   "outputs": [],
   "source": [
    "import pandas as pd\n",
    "from bs4 import BeautifulSoup\n",
    "import requests\n",
    "import time\n",
    "from datetime import date\n",
    "\n",
    "import smtplib\n",
    "import csv"
   ]
  },
  {
   "cell_type": "markdown",
   "source": [
    "> Paste URL of product that you want to track to `URL`"
   ],
   "metadata": {
    "collapsed": false,
    "pycharm": {
     "name": "#%% md\n"
    }
   }
  },
  {
   "cell_type": "code",
   "execution_count": 2,
   "id": "5401ec06",
   "metadata": {},
   "outputs": [],
   "source": [
    "URL = 'https://www.amazon.com/dp/B07LC7H9SQ/ref=sspa_dk_detail_2?psc=1&pd_rd_i=B07LC7H9SQ&pd_rd_w=TOyqI&pf_rd_p=5d846283-ed3e-4512-a744-a30f97c5d738&pd_rd_wg=880IX&pf_rd_r=REFJGH0PN6Z53V4ME3BJ&pd_rd_r=80d66c9e-552c-405e-92bf-172333030a9c&smid=A22EYBMEEDG5RX&spLa=ZW5jcnlwdGVkUXVhbGlmaWVyPUFOQUFHVUE2SEw2WVYmZW5jcnlwdGVkSWQ9QTA1MzQ4NDUxS1NTQ0w4VThPSUNNJmVuY3J5cHRlZEFkSWQ9QTAwNDExMzNMWlFXSkJONzFWNFgmd2lkZ2V0TmFtZT1zcF9kZXRhaWxfdGhlbWF0aWMmYWN0aW9uPWNsaWNrUmVkaXJlY3QmZG9Ob3RMb2dDbGljaz10cnVl'\n",
    "headers = {\"User-Agent\": \"Mozilla/5.0 (Windows NT 10.0; Win64; x64) AppleWebKit/537.36 (KHTML, like Gecko) Chrome/92.0.4515.131 Safari/537.36 OPR/78.0.4093.147\", \"Accept-Encoding\":\"gzip, deflate\", \"Accept\":\"text/html,application/xhtml+xml,application/xml;q=0.9,*/*;q=0.8\", \"DNT\":\"1\",\"Connection\":\"close\", \"Upgrade-Insecure-Requests\":\"1\"}\n",
    "\n",
    "page = requests.get(URL, headers = headers)\n",
    "\n",
    "soup1 = BeautifulSoup(page.content,\"html.parser\")\n",
    "soup2 = BeautifulSoup(soup1.prettify(),\"html.parser\")"
   ]
  },
  {
   "cell_type": "code",
   "execution_count": 3,
   "outputs": [
    {
     "name": "stdout",
     "output_type": "stream",
     "text": [
      "Product title: in My Day We Had Nine Planets Astronomy Space Pluto Funny Humor Pun Adult Tee Graphic T-Shirt for Men Tshirt\n",
      "Product price: $22.99\n",
      "Date: 25/08/2021\n",
      "Time: 20:49:25\n"
     ]
    }
   ],
   "source": [
    "productTitle = soup2.find(id = 'productTitle').get_text().strip()\n",
    "productPrice = soup2.find(id ='priceblock_ourprice').get_text().strip()[1:]\n",
    "d = date.today()\n",
    "currentDate = d.strftime(\"%d/%m/%Y\")\n",
    "\n",
    "t = time.localtime()\n",
    "currentTime = time.strftime(\"%H:%M:%S\", t)\n",
    "\n",
    "print(\"Product title:\", productTitle)\n",
    "print(\"Product price: $\" + productPrice)\n",
    "print(\"Date:\", currentDate)\n",
    "print(\"Time:\", currentTime)"
   ],
   "metadata": {
    "collapsed": false,
    "pycharm": {
     "name": "#%%\n"
    }
   }
  },
  {
   "cell_type": "code",
   "execution_count": 4,
   "id": "2cf3e6ac",
   "metadata": {},
   "outputs": [],
   "source": [
    "header = ['product_title','product_price', 'update_date', 'update_time']\n",
    "data = [productTitle, productPrice, currentDate, currentTime]\n",
    "\n",
    "\n",
    "with open(\"C:\\GoogleDrive\\College\\internship\\data-analytics-internship\\project05\\product_data.csv\", 'w', newline='',encoding='UTF-8') as file:\n",
    "    writer = csv.writer(file)\n",
    "    writer.writerow(header)\n",
    "    writer.writerow(data)"
   ]
  },
  {
   "cell_type": "code",
   "execution_count": 5,
   "id": "6158a762",
   "metadata": {},
   "outputs": [
    {
     "name": "stdout",
     "output_type": "stream",
     "text": [
      "22.99\n"
     ]
    }
   ],
   "source": [
    "df = pd.read_csv(r'C:\\GoogleDrive\\College\\internship\\data-analytics-internship\\project05\\product_data.csv')\n",
    "df.head()"
   ]
  },
  {
   "cell_type": "code",
   "execution_count": 6,
   "id": "2c0dbfcd",
   "metadata": {},
   "outputs": [],
   "source": [
    "def checkPrice():\n",
    "    # URL of product\n",
    "    URL = 'https://www.amazon.com/dp/B07LC7H9SQ/ref=sspa_dk_detail_2?psc=1&pd_rd_i=B07LC7H9SQ&pd_rd_w=TOyqI&pf_rd_p=5d846283-ed3e-4512-a744-a30f97c5d738&pd_rd_wg=880IX&pf_rd_r=REFJGH0PN6Z53V4ME3BJ&pd_rd_r=80d66c9e-552c-405e-92bf-172333030a9c&smid=A22EYBMEEDG5RX&spLa=ZW5jcnlwdGVkUXVhbGlmaWVyPUFOQUFHVUE2SEw2WVYmZW5jcnlwdGVkSWQ9QTA1MzQ4NDUxS1NTQ0w4VThPSUNNJmVuY3J5cHRlZEFkSWQ9QTAwNDExMzNMWlFXSkJONzFWNFgmd2lkZ2V0TmFtZT1zcF9kZXRhaWxfdGhlbWF0aWMmYWN0aW9uPWNsaWNrUmVkaXJlY3QmZG9Ob3RMb2dDbGljaz10cnVl'\n",
    "    # Price that is acceptable to you\n",
    "    acceptablePrice = 15\n",
    "    headers = {\"User-Agent\": \"Mozilla/5.0 (Windows NT 10.0; Win64; x64) AppleWebKit/537.36 (KHTML, like Gecko) Chrome/92.0.4515.131 Safari/537.36 OPR/78.0.4093.147\", \"Accept-Encoding\":\"gzip, deflate\", \"Accept\":\"text/html,application/xhtml+xml,application/xml;q=0.9,*/*;q=0.8\", \"DNT\":\"1\",\"Connection\":\"close\", \"Upgrade-Insecure-Requests\":\"1\"}\n",
    "\n",
    "    page = requests.get(URL, headers=headers)\n",
    "\n",
    "    soup1 = BeautifulSoup(page.content,\"html.parser\")\n",
    "    soup2 = BeautifulSoup(soup1.prettify(),\"html.parser\")\n",
    "\n",
    "    productTitle = soup2.find(id = 'productTitle').get_text().strip()\n",
    "    productPrice = soup2.find(id = 'priceblock_ourprice').get_text().strip()[1:]\n",
    "\n",
    "    d = date.today()\n",
    "    currentDate = d.strftime(\"%d/%m/%Y\")\n",
    "\n",
    "    t = time.localtime()\n",
    "    currentTime = time.strftime(\"%H:%M:%S\", t)\n",
    "\n",
    "    data = [productTitle, productPrice, currentDate, currentTime]\n",
    "    \n",
    "    with open(\"C:\\GoogleDrive\\College\\internship\\data-analytics-internship\\project05\\product_data.csv\", 'a+', newline='',encoding='UTF*') as file:\n",
    "        writer = csv.writer(file)\n",
    "        writer.writerow(data)\n",
    "\n",
    "    # If the product price is below 15 send a notification email to customer\n",
    "    if float(productPrice) <= acceptablePrice:\n",
    "        sendMail()"
   ]
  },
  {
   "cell_type": "markdown",
   "source": [
    "#### Check data every single day\n",
    "> 1 day has 86400 seconds\n"
   ],
   "metadata": {
    "collapsed": false,
    "pycharm": {
     "name": "#%% md\n"
    }
   }
  },
  {
   "cell_type": "code",
   "execution_count": null,
   "id": "e3784193",
   "metadata": {
    "pycharm": {
     "is_executing": true
    }
   },
   "outputs": [],
   "source": [
    "while True:\n",
    "    checkPrice()\n",
    "    time.sleep(86400)\n"
   ]
  },
  {
   "cell_type": "code",
   "execution_count": null,
   "id": "652a8746",
   "metadata": {
    "pycharm": {
     "name": "#%%\n",
     "is_executing": true
    }
   },
   "outputs": [],
   "source": [
    "def sendMail():\n",
    "    server = smtplib.SMTP_SSL('smtp.gmail.com', 465)\n",
    "    server.ehlo()\n",
    "    server.login('enterYourMail', 'enterYourPassword')\n",
    "\n",
    "    subject = \"AMAZON | The product you want is below 15$. BUY IT RIGHT NOW\"\n",
    "    body = \"Now is your chance to pick up the wishing product. Don't mess it up! The link to buy goes here!\"\n",
    "\n",
    "    msg = f\"Subject: {subject}\\n\\n{body}\"\n",
    "\n",
    "    server.sendmail('fromThisMail', 'toThisMail', msg)\n",
    "    server.close()\n"
   ]
  }
 ],
 "metadata": {
  "kernelspec": {
   "display_name": "Python 3",
   "language": "python",
   "name": "python3"
  },
  "language_info": {
   "codemirror_mode": {
    "name": "ipython",
    "version": 3
   },
   "file_extension": ".py",
   "mimetype": "text/x-python",
   "name": "python",
   "nbconvert_exporter": "python",
   "pygments_lexer": "ipython3",
   "version": "3.8.8"
  }
 },
 "nbformat": 4,
 "nbformat_minor": 5
}